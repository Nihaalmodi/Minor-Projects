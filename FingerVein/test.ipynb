{
 "cells": [
  {
   "cell_type": "code",
   "execution_count": 0,
   "metadata": {
    "colab": {},
    "colab_type": "code",
    "id": "0kqspJitkxp7"
   },
   "outputs": [],
   "source": [
    "import os\n",
    "import numpy as np\n",
    "import tensorflow as tf\n",
    "import numpy as np\n",
    "import cv2\n",
    "import random\n",
    "import itertools\n",
    "import pickle"
   ]
  },
  {
   "cell_type": "code",
   "execution_count": 2,
   "metadata": {
    "colab": {
     "base_uri": "https://localhost:8080/",
     "height": 1802
    },
    "colab_type": "code",
    "executionInfo": {
     "elapsed": 64105,
     "status": "ok",
     "timestamp": 1553923640871,
     "user": {
      "displayName": "Nihaal Modi",
      "photoUrl": "https://lh6.googleusercontent.com/-Ua0BkKr11xs/AAAAAAAAAAI/AAAAAAAAFl4/F4qWPXkXzPg/s64/photo.jpg",
      "userId": "10109107905944308955"
     },
     "user_tz": -330
    },
    "id": "Y1s7foKRqsef",
    "outputId": "af086c09-7ebf-4e5f-bf1e-6e3bdf0ed046"
   },
   "outputs": [
    {
     "name": "stdout",
     "output_type": "stream",
     "text": [
      "--2019-03-30 05:26:19--  http://mla.sdu.edu.cn/sjk/Finger%20Vein%20Database.rar\n",
      "Resolving mla.sdu.edu.cn (mla.sdu.edu.cn)... 202.194.15.5, 2001:da8:7000:15:202:194:15:5\n",
      "Connecting to mla.sdu.edu.cn (mla.sdu.edu.cn)|202.194.15.5|:80... connected.\n",
      "HTTP request sent, awaiting response... 200 OK\n",
      "Length: 132774451 (127M) [application/x-rar-compressed]\n",
      "Saving to: ‘Finger Vein Database.rar’\n",
      "\n",
      "Finger Vein Databas   2%[                    ]   3.09M  24.7KB/s    eta 36m 37s^C\n",
      "\n",
      "UNRAR 5.50 freeware      Copyright (c) 1993-2017 Alexander Roshal\n",
      "\n",
      "\n",
      "Extracting from Finger Vein Database.rar\n",
      "\n",
      "Creating    Finger Vein Database                                      OK\n",
      "Creating    Finger Vein Database/001                                  OK\n",
      "Creating    Finger Vein Database/001/left                             OK\n",
      "Extracting  Finger Vein Database/001/left/index_1.bmp                    \b\b\b\b  1%\b\b\b\b\b  OK \n",
      "Extracting  Finger Vein Database/001/left/index_2.bmp                    \b\b\b\b  2%\b\b\b\b\b  OK \n",
      "Extracting  Finger Vein Database/001/left/index_3.bmp                    \b\b\b\b  3%\b\b\b\b\b  OK \n",
      "Extracting  Finger Vein Database/001/left/index_4.bmp                    \b\b\b\b  4%\b\b\b\b  5%\b\b\b\b\b  OK \n",
      "Extracting  Finger Vein Database/001/left/index_5.bmp                    \b\b\b\b  6%\b\b\b\b\b  OK \n",
      "Extracting  Finger Vein Database/001/left/index_6.bmp                    \b\b\b\b  7%\b\b\b\b\b  OK \n",
      "Extracting  Finger Vein Database/001/left/middle_1.bmp                   \b\b\b\b  8%\b\b\b\b\b  OK \n",
      "Extracting  Finger Vein Database/001/left/middle_2.bmp                   \b\b\b\b  9%\b\b\b\b 10%\b\b\b\b\b  OK \n",
      "Extracting  Finger Vein Database/001/left/middle_3.bmp                   \b\b\b\b 11%\b\b\b\b\b  OK \n",
      "Extracting  Finger Vein Database/001/left/middle_4.bmp                   \b\b\b\b 12%\b\b\b\b\b  OK \n",
      "Extracting  Finger Vein Database/001/left/middle_5.bmp                   \b\b\b\b 13%\b\b\b\b 14%\b\b\b\b\b  OK \n",
      "Extracting  Finger Vein Database/001/left/middle_6.bmp                   \b\b\b\b 15%\b\b\b\b\b  OK \n",
      "Extracting  Finger Vein Database/001/left/ring_1.bmp                     \b\b\b\b 16%\b\b\b\b\b  OK \n",
      "Extracting  Finger Vein Database/001/left/ring_2.bmp                     \b\b\b\b 17%\b\b\b\b 18%\b\b\b\b\b  OK \n",
      "Extracting  Finger Vein Database/001/left/ring_3.bmp                     \b\b\b\b 19%\b\b\b\b\b  OK \n",
      "Extracting  Finger Vein Database/001/left/ring_4.bmp                     \b\b\b\b 20%\b\b\b\b\b  OK \n",
      "Extracting  Finger Vein Database/001/left/ring_5.bmp                     \b\b\b\b 21%\b\b\b\b 22%\b\b\b\b\b  OK \n",
      "Extracting  Finger Vein Database/001/left/ring_6.bmp                     \b\b\b\b 23%\b\b\b\b\b  OK \n",
      "Extracting  Finger Vein Database/001/left/Thumbs.db                      \b\b\b\b 24%\b\b\b\b\b  OK \n",
      "Creating    Finger Vein Database/001/right                            OK\n",
      "Extracting  Finger Vein Database/001/right/index_1.bmp                   \b\b\b\b 25%\b\b\b\b\b  OK \n",
      "Extracting  Finger Vein Database/001/right/index_2.bmp                   \b\b\b\b 26%\b\b\b\b\b  OK \n",
      "Extracting  Finger Vein Database/001/right/index_3.bmp                   \b\b\b\b 27%\b\b\b\b 28%\b\b\b\b\b  OK \n",
      "Extracting  Finger Vein Database/001/right/index_4.bmp                   \b\b\b\b 29%\b\b\b\b\b  OK \n",
      "Extracting  Finger Vein Database/001/right/index_5.bmp                   \b\b\b\b 30%\b\b\b\b\b  OK \n",
      "Extracting  Finger Vein Database/001/right/index_6.bmp                   \b\b\b\b 31%\b\b\b\b 32%\b\b\b\b\b  OK \n",
      "Extracting  Finger Vein Database/001/right/middle_1.bmp                  \b\b\b\b 33%\b\b\b\b\b  OK \n",
      "Extracting  Finger Vein Database/001/right/middle_2.bmp                  \b\b\b\b 34%\b\b\b\b\b  OK \n",
      "Extracting  Finger Vein Database/001/right/middle_3.bmp                  \b\b\b\b 35%\b\b\b\b 36%\b\b\b\b\b  OK \n",
      "Extracting  Finger Vein Database/001/right/middle_4.bmp                  \b\b\b\b 37%\b\b\b\b\b  OK \n",
      "Extracting  Finger Vein Database/001/right/middle_5.bmp                  \b\b\b\b 38%\b\b\b\b\b  OK \n",
      "Extracting  Finger Vein Database/001/right/middle_6.bmp                  \b\b\b\b 39%\b\b\b\b\b  OK \n",
      "Extracting  Finger Vein Database/001/right/ring_1.bmp                    \b\b\b\b 40%\b\b\b\b 41%\b\b\b\b\b  OK \n",
      "Extracting  Finger Vein Database/001/right/ring_2.bmp                    \b\b\b\b 42%\b\b\b\b\b  OK \n",
      "Extracting  Finger Vein Database/001/right/ring_3.bmp                    \b\b\b\b 43%\b\b\b\b\b  OK \n",
      "Extracting  Finger Vein Database/001/right/ring_4.bmp                    \b\b\b\b 44%\b\b\b\b 45%\b\b\b\b\b  OK \n",
      "Extracting  Finger Vein Database/001/right/ring_5.bmp                    \b\b\b\b 46%\b\b\b\b\b  OK \n",
      "Extracting  Finger Vein Database/001/right/ring_6.bmp                    \b\b\b\b 47%\b\b\b\b\b  OK \n",
      "Extracting  Finger Vein Database/001/right/Thumbs.db                     \b\b\b\b 48%\b\b\b\b\b  OK \n",
      "Creating    Finger Vein Database/002                                  OK\n",
      "Creating    Finger Vein Database/002/left                             OK\n",
      "Extracting  Finger Vein Database/002/left/index_1.bmp                    \b\b\b\b 49%\b\b\b\b 50%\b\b\b\b\b  OK \n",
      "Extracting  Finger Vein Database/002/left/index_2.bmp                    \b\b\b\b 51%\b\b\b\b\b  OK \n",
      "Extracting  Finger Vein Database/002/left/index_3.bmp                    \b\b\b\b 52%\b\b\b\b\b  OK \n",
      "Extracting  Finger Vein Database/002/left/index_4.bmp                    \b\b\b\b 53%\b\b\b\b 54%\b\b\b\b\b  OK \n",
      "Extracting  Finger Vein Database/002/left/index_5.bmp                    \b\b\b\b 55%\b\b\b\b\b  OK \n",
      "Extracting  Finger Vein Database/002/left/index_6.bmp                    \b\b\b\b 56%\b\b\b\b\b  OK \n",
      "Extracting  Finger Vein Database/002/left/middle_1.bmp                   \b\b\b\b 57%\b\b\b\b 58%\b\b\b\b\b  OK \n",
      "Extracting  Finger Vein Database/002/left/middle_2.bmp                   \b\b\b\b 59%\b\b\b\b\b  OK \n",
      "Extracting  Finger Vein Database/002/left/middle_3.bmp                   \b\b\b\b 60%\b\b\b\b\b  OK \n",
      "Extracting  Finger Vein Database/002/left/middle_4.bmp                   \b\b\b\b 61%\b\b\b\b 62%\b\b\b\b\b  OK \n",
      "Extracting  Finger Vein Database/002/left/middle_5.bmp                   \b\b\b\b 63%\b\b\b\b\b  OK \n",
      "Extracting  Finger Vein Database/002/left/middle_6.bmp                   \b\b\b\b 64%\b\b\b\b\b  OK \n",
      "Extracting  Finger Vein Database/002/left/ring_1.bmp                     \b\b\b\b 65%\b\b\b\b 66%\b\b\b\b\b  OK \n",
      "Extracting  Finger Vein Database/002/left/ring_2.bmp                     \b\b\b\b 67%\b\b\b\b\b  OK \n",
      "Extracting  Finger Vein Database/002/left/ring_3.bmp                     \b\b\b\b 68%\b\b\b\b\b  OK \n",
      "Extracting  Finger Vein Database/002/left/ring_4.bmp                     \b\b\b\b 69%\b\b\b\b 70%\b\b\b\b\b  OK \n",
      "Extracting  Finger Vein Database/002/left/ring_5.bmp                     \b\b\b\b 71%\b\b\b\b\b  OK \n",
      "Extracting  Finger Vein Database/002/left/ring_6.bmp                     \b\b\b\b 72%\b\b\b\b 73%\b\b\b\b\b  OK \n",
      "Extracting  Finger Vein Database/002/left/Thumbs.db                      \b\b\b\b 73%\b\b\b\b\b  OK \n",
      "Creating    Finger Vein Database/002/right                            OK\n",
      "Extracting  Finger Vein Database/002/right/index_1.bmp                   \b\b\b\b 74%\b\b\b\b\b  OK \n",
      "Extracting  Finger Vein Database/002/right/index_2.bmp                   \b\b\b\b 75%\b\b\b\b\b  OK \n",
      "Extracting  Finger Vein Database/002/right/index_3.bmp                   \b\b\b\b 76%\b\b\b\b 77%\b\b\b\b\b  OK \n",
      "Extracting  Finger Vein Database/002/right/index_4.bmp                   \b\b\b\b 78%\b\b\b\b\b  OK \n",
      "Extracting  Finger Vein Database/002/right/index_5.bmp                   \b\b\b\b 79%\b\b\b\b\b  OK \n",
      "Extracting  Finger Vein Database/002/right/index_6.bmp                   \b\b\b\b 80%\b\b\b\b 81%\b\b\b\b\b  OK \n",
      "Extracting  Finger Vein Database/002/right/middle_1.bmp                  \b\b\b\b 82%\b\b\b\b\b  OK \n",
      "Extracting  Finger Vein Database/002/right/middle_2.bmp                  \b\b\b\b 83%\b\b\b\b\b  OK \n",
      "Extracting  Finger Vein Database/002/right/middle_3.bmp                  \b\b\b\b 84%\b\b\b\b 85%\b\b\b\b\b  OK \n",
      "Extracting  Finger Vein Database/002/right/middle_4.bmp                  \b\b\b\b 86%\b\b\b\b\b  OK \n",
      "Extracting  Finger Vein Database/002/right/middle_5.bmp                  \b\b\b\b 87%\b\b\b\b\b  OK \n",
      "Extracting  Finger Vein Database/002/right/middle_6.bmp                  \b\b\b\b 88%\b\b\b\b\b  OK \n",
      "Extracting  Finger Vein Database/002/right/ring_1.bmp                    \b\b\b\b 89%\b\b\b\b 90%\b\b\b\b\b  OK \n",
      "Extracting  Finger Vein Database/002/right/ring_2.bmp                    \b\b\b\b 91%\b\b\b\b\b  OK \n",
      "Extracting  Finger Vein Database/002/right/ring_3.bmp                    \b\b\b\b 92%\b\b\b\b\b  OK \n",
      "Extracting  Finger Vein Database/002/right/ring_4.bmp                    \b\b\b\b 93%\b\b\b\b 94%\b\b\b\b\b  OK \n",
      "Extracting  Finger Vein Database/002/right/ring_5.bmp                    \b\b\b\b 95%\b\b\b\b\b  OK \n",
      "Extracting  Finger Vein Database/002/right/ring_6.bmp                    \b\b\b\b 96%\b\b\b\b\b  OK \n",
      "Extracting  Finger Vein Database/002/right/Thumbs.db                     \b\b\b\b 97%\b\b\b\b\b  OK \n",
      "Creating    Finger Vein Database/003                                  OK\n",
      "Creating    Finger Vein Database/003/left                             OK\n",
      "Extracting  Finger Vein Database/003/left/index_1.bmp                    \b\b\b\b 98%\b\b\b\b\b  OK \n",
      "Extracting  Finger Vein Database/003/left/index_2.bmp                    \b\b\b\b 99%\b\b\b\b\b  OK \n",
      "Extracting  Finger Vein Database/003/left/index_3.bmp                    \b\b\b\b 99%\n",
      "Finger Vein Database/003/left/index_3.bmp - checksum error\n",
      "Unexpected end of archive\n",
      "Total errors: 2\n"
     ]
    }
   ],
   "source": [
    "!wget http://mla.sdu.edu.cn/sjk/Finger%20Vein%20Database.rar\n",
    "!unrar x -r \"Finger Vein Database.rar\"\n",
    "!mv \"Finger Vein Database\" \"Finger\"\n",
    "  "
   ]
  },
  {
   "cell_type": "code",
   "execution_count": 0,
   "metadata": {
    "colab": {
     "base_uri": "https://localhost:8080/",
     "height": 34
    },
    "colab_type": "code",
    "executionInfo": {
     "elapsed": 36562,
     "status": "ok",
     "timestamp": 1552893667401,
     "user": {
      "displayName": "Nihaal Modi",
      "photoUrl": "https://lh6.googleusercontent.com/-Ua0BkKr11xs/AAAAAAAAAAI/AAAAAAAAFl4/F4qWPXkXzPg/s64/photo.jpg",
      "userId": "10109107905944308955"
     },
     "user_tz": -330
    },
    "id": "OrzWMxBkr-y2",
    "outputId": "c5a5af6c-66a8-4cfd-9f69-d178db7491db"
   },
   "outputs": [
    {
     "name": "stdout",
     "output_type": "stream",
     "text": [
      "Length of Training Data: 2332\n"
     ]
    }
   ],
   "source": [
    "DATADIR=\"Finger\"\n",
    "IMG_SIZE=200\n",
    "def load_image(addr):\n",
    "    img = cv2.imread(addr,cv2.IMREAD_GRAYSCALE)\n",
    "    # OTSU THRESHOLDING\n",
    "    # img2gray = cv2.cvtColor(img,cv2.COLOR_BGR2GRAY)\n",
    "    ret, mask = cv2.threshold(img, 100, 255, cv2.THRESH_BINARY+cv2.THRESH_OTSU)\n",
    "    res = cv2.bitwise_and(img,img,mask = mask)\n",
    "    \n",
    "    # cv2.imshow(\"image\",res)\n",
    "    # cv2.imshow(\"image2\",img)\n",
    "    # cv2.waitKey(0)\n",
    "    # cv2.destroyAllWindows()\n",
    "    new = cv2.resize(img, (IMG_SIZE, IMG_SIZE)) \n",
    "    return new\n",
    "\n",
    "traning_data=[]\n",
    "# for person in os. listdir(DATADIR):\n",
    "#     path=os.path.join(DATADIR,person)\n",
    "#     for hand in os.listdir(path):\n",
    "#         path_=os.path.join(path,hand)\n",
    "#         for finger in os.listdir(path_):\n",
    "#             if(finger[-3:]=='bmp'):\n",
    "#                 img_path=os.path.join(path_,finger)\n",
    "#                 img  = load_image(img_path)\n",
    "#                 label = person+\"_\"+hand+\"_\"+finger[:-6]\n",
    "#                 traning_data.append((img,label))\n",
    "    \n",
    "#Add Positive and Anchor\n",
    "for person in os. listdir(DATADIR):\n",
    "    path=os.path.join(DATADIR,person)\n",
    "    for hand in os.listdir(path):\n",
    "        path_=os.path.join(path,hand)\n",
    "        temp=[]\n",
    "        previous_finger=None\n",
    "        for finger in os.listdir(path_):\n",
    "            if(finger[-3:]==\"bmp\"):\n",
    "                if(finger[:4]==previous_finger):\n",
    "                    img_path = os.path.join(path_,finger)\n",
    "                    label = person+\"_\"+hand+\"_\"+finger[:-6]\n",
    "                    temp.append([load_image(img_path),label])\n",
    "                else:\n",
    "                    previous_finger = finger[:4]\n",
    "                    for t in itertools.combinations(temp,2):\n",
    "                        traning_data.append(list(t))\n",
    "                    img_path = os.path.join(path_,finger)\n",
    "                    label = person+\"_\"+hand+\"_\"+finger[:-6]\n",
    "                    temp = [[load_image(img_path),label]]\n",
    "print(\"Length of Training Data: \"+str(len(traning_data)))\n",
    "\n",
    "del person\n",
    "del hand\n",
    "del finger\n",
    "#Add a negative\n",
    "for t in range(0,len(traning_data)):\n",
    "    while True:\n",
    "        i = random.randint(0,len(traning_data)-1)\n",
    "        if(traning_data[i][i%2][1]!=traning_data[t][0][1]):\n",
    "            traning_data[t].append(traning_data[i][i%2])\n",
    "            break\n",
    "\n",
    "A=[]\n",
    "B=[]\n",
    "C=[]\n",
    "# print(traning_data[0])\n",
    "# for tool in traning_data:\n",
    "#     A.append(tool[0][0])\n",
    "#     B.append(tool[1][0])\n",
    "#     C.append(tool[2][0])\n",
    "for x in range(0,len(traning_data)):\n",
    "    A.append(traning_data[x][0][0])\n",
    "    B.append(traning_data[x][1][0])\n",
    "    C.append(traning_data[x][2][0])\n",
    "del traning_data\n",
    "del x\n",
    "#         X.append(features)\n",
    "#         # Y.append(label)\n",
    "# random.shuffle(X)\n",
    "# print(X[0])\n",
    "# for i,j,k in X:\n",
    "#     A.append(i)\n",
    "#     B.append(j)\n",
    "#     C.append(k)\n",
    "# print(A)\n",
    "A = np.array(A).reshape(-1, IMG_SIZE, IMG_SIZE, 1)\n",
    "B = np.array(B).reshape(-1, IMG_SIZE, IMG_SIZE, 1)\n",
    "C = np.array(C).reshape(-1, IMG_SIZE, IMG_SIZE, 1)\n",
    "A=A/255.0\n",
    "B = B/255.0\n",
    "C = C/255.0\n",
    "# pickle_out = open(\"A.pickle\",\"wb\")\n",
    "# pickle.dump(A, pickle_out)\n",
    "# pickle_out.close()\n",
    "\n",
    "# pickle_out = open(\"B.pickle\",\"wb\")\n",
    "# pickle.dump(B, pickle_out)\n",
    "# pickle_out.close()\n",
    "\n",
    "# pickle_out = open(\"C.pickle\",\"wb\")\n",
    "# pickle.dump(C, pickle_out)\n",
    "# pickle_out.close()\n",
    "\n",
    "# print(\"Pickle File Generated\")\n",
    "\n"
   ]
  },
  {
   "cell_type": "code",
   "execution_count": 0,
   "metadata": {
    "colab": {
     "base_uri": "https://localhost:8080/",
     "height": 180
    },
    "colab_type": "code",
    "executionInfo": {
     "elapsed": 4122,
     "status": "error",
     "timestamp": 1552893731605,
     "user": {
      "displayName": "Nihaal Modi",
      "photoUrl": "https://lh6.googleusercontent.com/-Ua0BkKr11xs/AAAAAAAAAAI/AAAAAAAAFl4/F4qWPXkXzPg/s64/photo.jpg",
      "userId": "10109107905944308955"
     },
     "user_tz": -330
    },
    "id": "D7tyfm-7nir_",
    "outputId": "53fcbfa3-cdbc-4a2d-805a-f55928558cc4"
   },
   "outputs": [
    {
     "ename": "NameError",
     "evalue": "ignored",
     "output_type": "error",
     "traceback": [
      "\u001b[0;31m---------------------------------------------------------------------------\u001b[0m",
      "\u001b[0;31mNameError\u001b[0m                                 Traceback (most recent call last)",
      "\u001b[0;32m<ipython-input-4-8a605fce259c>\u001b[0m in \u001b[0;36m<module>\u001b[0;34m()\u001b[0m\n\u001b[1;32m      1\u001b[0m \u001b[0mdataset_A\u001b[0m \u001b[0;34m=\u001b[0m \u001b[0mtf\u001b[0m\u001b[0;34m.\u001b[0m\u001b[0mdata\u001b[0m\u001b[0;34m.\u001b[0m\u001b[0mDataset\u001b[0m\u001b[0;34m.\u001b[0m\u001b[0mfrom_tensor_slices\u001b[0m\u001b[0;34m(\u001b[0m\u001b[0mA\u001b[0m\u001b[0;34m)\u001b[0m\u001b[0;34m\u001b[0m\u001b[0;34m\u001b[0m\u001b[0m\n\u001b[0;32m----> 2\u001b[0;31m \u001b[0mprint\u001b[0m\u001b[0;34m(\u001b[0m\u001b[0mdataset\u001b[0m\u001b[0;34m)\u001b[0m\u001b[0;34m\u001b[0m\u001b[0;34m\u001b[0m\u001b[0m\n\u001b[0m",
      "\u001b[0;31mNameError\u001b[0m: name 'dataset' is not defined"
     ]
    }
   ],
   "source": [
    "\n"
   ]
  },
  {
   "cell_type": "code",
   "execution_count": 0,
   "metadata": {
    "colab": {
     "base_uri": "https://localhost:8080/",
     "height": 34
    },
    "colab_type": "code",
    "executionInfo": {
     "elapsed": 1214,
     "status": "ok",
     "timestamp": 1552893776187,
     "user": {
      "displayName": "Nihaal Modi",
      "photoUrl": "https://lh6.googleusercontent.com/-Ua0BkKr11xs/AAAAAAAAAAI/AAAAAAAAFl4/F4qWPXkXzPg/s64/photo.jpg",
      "userId": "10109107905944308955"
     },
     "user_tz": -330
    },
    "id": "Mw7N2zDlrg1Y",
    "outputId": "89b41a7b-0ec4-400b-c6c2-5957527a0a45"
   },
   "outputs": [
    {
     "name": "stdout",
     "output_type": "stream",
     "text": [
      "<DatasetV1Adapter shapes: (200, 200, 1), types: tf.float64>\n"
     ]
    }
   ],
   "source": [
    "print(dataset_A)"
   ]
  },
  {
   "cell_type": "code",
   "execution_count": 0,
   "metadata": {
    "colab": {
     "base_uri": "https://localhost:8080/",
     "height": 105
    },
    "colab_type": "code",
    "executionInfo": {
     "elapsed": 2346,
     "status": "ok",
     "timestamp": 1552892776137,
     "user": {
      "displayName": "Nihaal Modi",
      "photoUrl": "https://lh6.googleusercontent.com/-Ua0BkKr11xs/AAAAAAAAAAI/AAAAAAAAFl4/F4qWPXkXzPg/s64/photo.jpg",
      "userId": "10109107905944308955"
     },
     "user_tz": -330
    },
    "id": "lbXoiAj2vihB",
    "outputId": "da618cb4-0b45-49e0-bfad-e0debbc6f9e3"
   },
   "outputs": [
    {
     "name": "stdout",
     "output_type": "stream",
     "text": [
      "/content\n",
      "WARNING:tensorflow:From /usr/local/lib/python3.6/dist-packages/tensorflow/python/ops/resource_variable_ops.py:435: colocate_with (from tensorflow.python.framework.ops) is deprecated and will be removed in a future version.\n",
      "Instructions for updating:\n",
      "Colocations handled automatically by placer.\n"
     ]
    }
   ],
   "source": [
    "learning_rate = 0.0001\n",
    "epochs = 10\n",
    "batch_size = 50\n",
    "\n",
    "checkpoint_path=os.getcwd()\n",
    "print(checkpoint_path)\n",
    "cp_callback = tf.keras.callbacks.ModelCheckpoint(checkpoint_path,save_weights_only=True,verbose=1)\n",
    "\n",
    "# pickle_in = open(\"A.pickle\",\"rb\")\n",
    "# A = pickle.load(pickle_in)\n",
    "\n",
    "# pickle_in = open(\"B.pickle\",\"rb\")\n",
    "# B = pickle.load(pickle_in)\n",
    "\n",
    "# pickle_in = open(\"C.pickle\",\"rb\")\n",
    "# C = pickle.load(pickle_in)\n",
    "\n",
    "def CNN_layer(x,seq_no):\n",
    "    x= tf.keras.layers.Conv2D(64, (7, 7), strides=(2, 2), padding = \"valid\", name=seq_no+\"conv1\", activation=\"relu\" , input_shape= x.shape[1:])(x)\n",
    "    x= tf.keras.layers.MaxPooling2D(pool_size= (3, 3), strides = (1, 1), padding = \"valid\", name=seq_no+\"pool1\")(x)\n",
    "\n",
    "    x= tf.keras.layers.Conv2D(64, (1, 1), strides=(1, 1), padding = \"valid\", name=seq_no+\"conv2a\", activation=\"relu\")(x)\n",
    "    x= tf.keras.layers.Conv2D(192, (3, 3), strides=(1, 1), padding = \"valid\", name=seq_no+\"conv2\", activation=\"relu\")(x)\n",
    "    x= tf.keras.layers.MaxPooling2D(pool_size= (3, 3), strides = (2, 2), padding = \"valid\", name=seq_no+\"pool2\")(x)\n",
    "\n",
    "\n",
    "    x= tf.keras.layers.Conv2D(192, (1, 1), strides=(1, 1), padding = \"valid\", name=seq_no+\"conv3a\", activation=\"relu\")(x)\n",
    "    x= tf.keras.layers.Conv2D(384, (3, 3), strides=(2, 2), padding = \"valid\", name=seq_no+\"conv3\", activation=\"relu\")(x)\n",
    "    x= tf.keras.layers.MaxPooling2D(pool_size= (3, 3), strides = (2, 2), padding = \"valid\", name=seq_no+\"pool3\")(x)\n",
    "\n",
    "    x= tf.keras.layers.Conv2D(384, (1, 1), strides=(1, 1), padding = \"valid\", name=seq_no+\"conv4a\", activation=\"relu\")(x)\n",
    "    x= tf.keras.layers.Conv2D(256, (3, 3), strides=(1, 1), padding = \"valid\", name=seq_no+\"conv4\", activation=\"relu\")(x)\n",
    "\n",
    "    x= tf.keras.layers.Conv2D(256, (1, 1), strides=(1, 1), padding = \"valid\", name=seq_no+\"conv5a\", activation=\"relu\")(x)\n",
    "    x= tf.keras.layers.Conv2D(256, (3, 3), strides=(1, 1), padding = \"valid\", name=seq_no+\"conv5\", activation=\"relu\")(x)\n",
    "\n",
    "    x= tf.keras.layers.Conv2D(256, (1, 1), strides=(1, 1), padding = \"valid\", name=seq_no+\"conv6a\", activation=\"relu\")(x)\n",
    "    x= tf.keras.layers.Conv2D(256, (3, 3), strides=(1, 1), padding = \"valid\", name=seq_no+\"conv6\", activation=\"relu\")(x)\n",
    "    x= tf.keras.layers.MaxPooling2D(pool_size= (3, 3), strides = (2, 2), padding = \"valid\", name=seq_no+\"pool4\")(x)\n",
    "    return x\n",
    "# dropout\n",
    "input_=[]\n",
    "densors = []\n",
    "\n",
    "input_.append(tf.keras.layers.Input(shape=A.shape[1:]))\n",
    "input_.append(tf.keras.layers.Input(shape=B.shape[1:]))\n",
    "input_.append(tf.keras.layers.Input(shape=C.shape[1:]))\n",
    "\n",
    "count=0\n",
    "for curr_input in input_:\n",
    "    densors.append(CNN_layer(curr_input,str(count)))\n",
    "    count=count+1\n",
    "\n",
    "y = tf.keras.layers.Concatenate()(densors)\n",
    "\n",
    "y = tf.keras.layers.Flatten()(y)\n",
    "y = tf.keras.layers.Dense(513)(y)\n",
    "\n",
    "split = tf.keras.layers.Lambda( lambda x: tf.split(x,num_or_size_splits=3,axis=1))(y)\n",
    "densors=[]\n",
    "for i in range(3):\n",
    "    densors.append(tf.keras.layers.Dense(1)(split[0]))\n",
    "y = tf.keras.layers.Concatenate()(densors)\n",
    "y = tf.keras.layers.Activation(\"sigmoid\")(y)\n",
    "model=tf.keras.models.Model(inputs=input_,outputs=y)\n",
    "model.compile(\"adam\", loss='binary_crossentropy')\n"
   ]
  },
  {
   "cell_type": "code",
   "execution_count": 0,
   "metadata": {
    "colab": {},
    "colab_type": "code",
    "id": "-UPeqyrKn2Wn"
   },
   "outputs": [],
   "source": [
    "# model.fit([A,B,C], batch_size=16, epochs=10, steps_per_epoch=16, validation_split=0.3, verbose=2)\n",
    "# model.save_weights(checkpoint_path)\n",
    "# model.summary()"
   ]
  },
  {
   "cell_type": "code",
   "execution_count": 0,
   "metadata": {
    "colab": {},
    "colab_type": "code",
    "id": "6LqR83sXoBO3"
   },
   "outputs": [],
   "source": [
    "loss = tf.contrib.losses.metric_learning.triplet_semihard_loss()\n",
    "optimizer = tf.train.GradientDescentOptimizer(learning_rate=learning_rate)\n",
    "train_op = optimizer.minimize(\n",
    "        loss=loss,\n",
    "        global_step=tf.train.get_global_step())\n",
    "\n",
    "mod = tf.estimator.Estimator(\n",
    "    model_fn=cnn_model_fn, model_dir=\"train/mnist_convnet_model\")\n",
    "train_input_fn = tf.estimator.inputs.numpy_input_fn(\n",
    "    x={\"x\": X_train_scaled},\n",
    "    y=y_train,\n",
    "    batch_size=100,\n",
    "    num_epochs=None,\n",
    "    shuffle=True)\n"
   ]
  },
  {
   "cell_type": "code",
   "execution_count": 0,
   "metadata": {
    "colab": {
     "base_uri": "https://localhost:8080/",
     "height": 88
    },
    "colab_type": "code",
    "id": "5IaLjXeboREN",
    "outputId": "56acf692-04c6-422d-a069-f3424500834c"
   },
   "outputs": [
    {
     "name": "stdout",
     "output_type": "stream",
     "text": [
      "WARNING:tensorflow:From /usr/local/lib/python3.6/dist-packages/tensorflow/python/ops/math_ops.py:3066: to_int32 (from tensorflow.python.ops.math_ops) is deprecated and will be removed in a future version.\n",
      "Instructions for updating:\n",
      "Use tf.cast instead.\n"
     ]
    }
   ],
   "source": [
    "model.train_on_batch([A,B,C])"
   ]
  }
 ],
 "metadata": {
  "colab": {
   "collapsed_sections": [],
   "name": "Finger.ipynb",
   "provenance": [],
   "version": "0.3.2"
  },
  "kernelspec": {
   "display_name": "Python 3",
   "language": "python",
   "name": "python3"
  },
  "language_info": {
   "codemirror_mode": {
    "name": "ipython",
    "version": 3
   },
   "file_extension": ".py",
   "mimetype": "text/x-python",
   "name": "python",
   "nbconvert_exporter": "python",
   "pygments_lexer": "ipython3",
   "version": "3.7.3"
  }
 },
 "nbformat": 4,
 "nbformat_minor": 1
}
