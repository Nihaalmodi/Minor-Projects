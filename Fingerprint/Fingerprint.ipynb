{
 "cells": [
  {
   "cell_type": "code",
   "execution_count": 0,
   "metadata": {
    "colab": {},
    "colab_type": "code",
    "id": "7kN1KzPP9Kur"
   },
   "outputs": [],
   "source": [
    "!pip install -U -q PyDrive\n"
   ]
  },
  {
   "cell_type": "code",
   "execution_count": 0,
   "metadata": {
    "colab": {},
    "colab_type": "code",
    "id": "NFtGeTxYykzJ"
   },
   "outputs": [],
   "source": [
    "\n",
    "import os\n",
    "from pydrive.auth import GoogleAuth\n",
    "from pydrive.drive import GoogleDrive\n",
    "from google.colab import auth\n",
    "from oauth2client.client import GoogleCredentials"
   ]
  },
  {
   "cell_type": "code",
   "execution_count": 0,
   "metadata": {
    "colab": {},
    "colab_type": "code",
    "id": "XNJeol7-MYUf"
   },
   "outputs": [],
   "source": []
  },
  {
   "cell_type": "code",
   "execution_count": 0,
   "metadata": {
    "colab": {},
    "colab_type": "code",
    "id": "crRzwBfc9NPo"
   },
   "outputs": [],
   "source": [
    "auth.authenticate_user()\n",
    "gauth = GoogleAuth()\n",
    "gauth.credentials = GoogleCredentials.get_application_default()\n",
    "drive = GoogleDrive(gauth)"
   ]
  },
  {
   "cell_type": "code",
   "execution_count": 0,
   "metadata": {
    "colab": {},
    "colab_type": "code",
    "id": "28Pu5YU9_xuf"
   },
   "outputs": [],
   "source": [
    "# import os\n",
    "# os.chdir(\"../\")\n",
    "# !rm -rf \"Fingerprint\""
   ]
  },
  {
   "cell_type": "code",
   "execution_count": 0,
   "metadata": {
    "colab": {},
    "colab_type": "code",
    "id": "OuqDZPdi9RX-"
   },
   "outputs": [],
   "source": [
    "%%capture\n",
    "Dir = os.listdir(\"./\")\n",
    "if (\"PNG\" not in Dir):\n",
    "    if (\"Fingerprint.rar\" not in Dir):\n",
    "        checkpoint = drive.CreateFile({'id': '1TSV_8xJanXfSShkOElBCxiIr-Bzmh14v'})\n",
    "        checkpoint.GetContentFile('Fingerprint.zip')\n",
    "#         !wget http://mla.sdu.edu.cn/sjk/Finger%20Vein%20Database.rar\n",
    "        del checkpoint\n",
    "    !unzip \"Fingerprint.zip\"\n",
    "    !mv \"PNG\" \"Fingerprint\"\n",
    "del Dir"
   ]
  },
  {
   "cell_type": "code",
   "execution_count": 0,
   "metadata": {
    "colab": {},
    "colab_type": "code",
    "id": "xQuVL6Yf9gVR"
   },
   "outputs": [],
   "source": [
    "os.chdir(\"Fingerprint\")"
   ]
  },
  {
   "cell_type": "code",
   "execution_count": 0,
   "metadata": {
    "colab": {},
    "colab_type": "code",
    "id": "rPX9Xtz09f1z"
   },
   "outputs": [],
   "source": [
    "import os\n",
    "import pickle\n",
    "import subprocess\n",
    "import sys\n",
    "dir = sorted(os.listdir())\n",
    "count=0\n",
    "wrong = []\n",
    "correct = []\n",
    "for img1 in dir:\n",
    "    for img2 in dir:\n",
    "        count+=1\n",
    "        if img1[-3:]!=\"png\" or img2[-3:]!=\"png\":\n",
    "            continue\n",
    "        label1 = img1[:-6]\n",
    "        label2 = img2[:-6]\n",
    "\n",
    "        if label1==label2:\n",
    "#             print(\"{0} done {1} remaining\".format(img1, img2))\n",
    "            p = subprocess.Popen([\"python\", \"app.py\", img1, img2], stdout=subprocess.PIPE)\n",
    "            out = p.communicate()[0].decode(\"utf-8\").split(\"-\")\n",
    "            print(out)\n",
    "            if out[1]!=\"Fingerprint matches\":\n",
    "                wrong.append([img1,img2,out[0]])\n",
    "            else:\n",
    "                correct.append([img1,img2,out[0]])\n",
    "# \t\telse:\n",
    "# \t\t\tif out[1]!=\"Fingerprint does not match\":\n",
    "# \t\t\t\twrong.append([img1,img2,out[0]])\n",
    "# \t\t\telse:\n",
    "# \t\t\t\tcorrect.append([img1,img2,out[0]])\n",
    "# print(\"Pickling output\")\n",
    "# output = open('wrong.pkl', 'wb')\n",
    "# pickle.dump(wrong, output, -1)\n",
    "# output.close()\n",
    "\n",
    "\n",
    "# output = open('correct.pkl', 'wb')\n",
    "# pickle.dump(correct, output, -1)\n",
    "# output.close()"
   ]
  },
  {
   "cell_type": "code",
   "execution_count": 0,
   "metadata": {
    "colab": {
     "base_uri": "https://localhost:8080/",
     "height": 2362
    },
    "colab_type": "code",
    "id": "6o8nu_TH9tFy",
    "outputId": "9a1c5a94-6de6-4930-947b-89cc8d5d9aa1"
   },
   "outputs": [
    {
     "name": "stdout",
     "output_type": "stream",
     "text": [
      "133\n",
      "132\n",
      "131\n",
      "130\n",
      "129\n",
      "128\n",
      "127\n",
      "126\n",
      "125\n",
      "124\n",
      "123\n",
      "122\n",
      "121\n",
      "120\n",
      "119\n",
      "118\n",
      "117\n",
      "116\n",
      "115\n",
      "114\n",
      "113\n",
      "112\n",
      "111\n",
      "110\n",
      "109\n",
      "108\n",
      "107\n",
      "106\n",
      "105\n",
      "104\n",
      "103\n",
      "102\n",
      "101\n",
      "100\n",
      "99\n",
      "98\n",
      "97\n",
      "96\n",
      "95\n",
      "94\n",
      "93\n",
      "92\n",
      "91\n",
      "90\n",
      "89\n",
      "88\n",
      "87\n",
      "86\n",
      "85\n",
      "84\n",
      "83\n",
      "82\n",
      "81\n",
      "80\n",
      "79\n",
      "78\n",
      "77\n",
      "76\n",
      "75\n",
      "74\n",
      "73\n",
      "72\n",
      "71\n",
      "70\n",
      "69\n",
      "68\n",
      "67\n",
      "66\n",
      "65\n",
      "64\n",
      "63\n",
      "62\n",
      "61\n",
      "60\n",
      "59\n",
      "58\n",
      "57\n",
      "56\n",
      "55\n",
      "54\n",
      "53\n",
      "52\n",
      "51\n",
      "50\n",
      "49\n",
      "48\n",
      "47\n",
      "46\n",
      "45\n",
      "44\n",
      "43\n",
      "42\n",
      "41\n",
      "40\n",
      "39\n",
      "38\n",
      "37\n",
      "36\n",
      "35\n",
      "34\n",
      "33\n",
      "32\n",
      "31\n",
      "30\n",
      "29\n",
      "28\n",
      "27\n",
      "26\n",
      "25\n",
      "24\n",
      "23\n",
      "22\n",
      "21\n",
      "20\n",
      "19\n",
      "18\n",
      "17\n",
      "16\n",
      "15\n",
      "14\n",
      "13\n",
      "12\n",
      "11\n",
      "10\n",
      "9\n",
      "8\n",
      "7\n",
      "6\n",
      "5\n",
      "4\n",
      "3\n",
      "2\n",
      "1\n",
      "0\n",
      "Pickling output\n"
     ]
    }
   ],
   "source": [
    "import os\n",
    "import pickle\n",
    "import subprocess\n",
    "import sys\n",
    "from app import get_descriptors\n",
    "import cv2\n",
    "\n",
    "dir = os.listdir()\n",
    "n = len(dir)\n",
    "count=0\n",
    "wrong = []\n",
    "correct = []\n",
    "descriptor_list=[]\n",
    "\n",
    "for img in dir:\n",
    "\tif img[-3:]==\"png\":\n",
    "\t\timg1 = cv2.imread(img, cv2.IMREAD_GRAYSCALE)\n",
    "\t\tkp1, des1 = get_descriptors(img1)\n",
    "\t\tlabel = img[:-6]\n",
    "\t\tdescriptor_list.append([des1,label])\n",
    "\tn -= 1\n",
    "\tprint(n)\n",
    "\n",
    "\t# bf = cv2.BFMatcher(cv2.NORM_HAMMING, crossCheck=True)\n",
    "\t# matches = sorted(bf.match(des1, des2), key= lambda match:match.distance)\n",
    "\t# p = subprocess.Popen([\"python\", \"app.py\", img1, img2], stdout=subprocess.PIPE)\n",
    "\t# out = p.communicate()[0].decode(\"utf-8\").split(\"-\")\n",
    "# \tprint(out)\n",
    "# \t\tif label1==label2:\n",
    "# \t\t\tif out[1]!=\"Fingerprint matches\":\n",
    "# \t\t\t\twrong.append([img1,img2,out[0]])\n",
    "# \t\t\telse:\n",
    "# \t\t\t\tcorrect.append([img1,img2,out[0]])\n",
    "# \t\telse:\n",
    "# \t\t\tif out[1]!=\"Fingerprint does not match\":\n",
    "# \t\t\t\twrong.append([img1,img2,out[0]])\n",
    "# \t\t\telse:\n",
    "# \t\t\t\tcorrect.append([img1,img2,out[0]])\n",
    "print(\"Pickling output\")\n",
    "output = open('descriptors.pkl', 'wb')\n",
    "pickle.dump(descriptor_list, output, -1)\n",
    "output.close()\n",
    "\n",
    "\n",
    "# output = open('correct.pkl', 'wb')\n",
    "# pickle.dump(correct, output, -1)\n",
    "# output.close()\n"
   ]
  },
  {
   "cell_type": "code",
   "execution_count": 0,
   "metadata": {
    "colab": {
     "base_uri": "https://localhost:8080/",
     "height": 868
    },
    "colab_type": "code",
    "id": "3mygTNfvRWTq",
    "outputId": "d2de86b1-37a2-4df3-d4db-493b7629e40c"
   },
   "outputs": [
    {
     "name": "stdout",
     "output_type": "stream",
     "text": [
      "43.06024096385542\n",
      "42.3\n",
      "40.87068965517241\n",
      "40.52040816326531\n",
      "39.009803921568626\n",
      "38.05555555555556\n",
      "44.205882352941174\n",
      "38.5\n",
      "39.30434782608695\n",
      "40.484375\n",
      "50.648148148148145\n",
      "38.59340659340659\n",
      "41.23711340206186\n",
      "39.285714285714285\n",
      "39.0625\n",
      "39.84426229508197\n",
      "46.5\n",
      "40.69117647058823\n",
      "45.5\n",
      "38.82022471910113\n",
      "43.159574468085104\n",
      "38.8768115942029\n",
      "41.71551724137931\n",
      "43.46511627906977\n",
      "38.0\n",
      "38.42727272727273\n",
      "40.58015267175573\n",
      "42.69421487603306\n",
      "40.08571428571429\n",
      "40.08653846153846\n",
      "38.35\n",
      "39.714285714285715\n",
      "38.21875\n",
      "40.63302752293578\n",
      "38.02020202020202\n",
      "41.824175824175825\n",
      "44.0\n",
      "41.8252427184466\n",
      "40.20224719101124\n",
      "40.54929577464789\n",
      "42.88793103448276\n",
      "41.07462686567164\n",
      "40.39393939393939\n",
      "39.23255813953488\n",
      "39.86363636363637\n",
      "39.21978021978022\n",
      "39.06428571428572\n",
      "41.136\n",
      "40.405660377358494\n"
     ]
    }
   ],
   "source": [
    "FAR = 0\n",
    "FRR = 0\n",
    "match_no = 0\n",
    "unmatch_no = 0\n",
    "\n",
    "from itertools import combinations \n",
    "for item1,item2 in list(combinations(descriptor_list, 2)):\n",
    "    des1 = item1[0]\n",
    "    des2 = item2[0]\n",
    "    label1 = item1[1]\n",
    "    label2 = item2[1]\n",
    "    bf = cv2.BFMatcher(cv2.NORM_HAMMING, crossCheck=True)\n",
    "    matches = sorted(bf.match(des1, des2), key= lambda match:match.distance)\n",
    "    score = 0\n",
    "    for match in matches:\n",
    "        score += match.distance\n",
    "    score_threshold = 38\n",
    "    if label1==label2:\n",
    "        match_no += 1\n",
    "        \n",
    "    else:\n",
    "        unmatch_no +=1\n",
    "    \n",
    "    if score/len(matches) < score_threshold:\n",
    "        if label1!=label2:\n",
    "            FAR+=1\n",
    "    else:\n",
    "        if label1==label2:\n",
    "            FRR+=1\n",
    "            print(score/len(matches))\n",
    "    "
   ]
  },
  {
   "cell_type": "code",
   "execution_count": 0,
   "metadata": {
    "colab": {
     "base_uri": "https://localhost:8080/",
     "height": 34
    },
    "colab_type": "code",
    "id": "zeLuAeGoTWsH",
    "outputId": "d3d23524-d28d-4124-993f-e8926b48f93d"
   },
   "outputs": [
    {
     "data": {
      "text/plain": [
       "0.109375"
      ]
     },
     "execution_count": 50,
     "metadata": {
      "tags": []
     },
     "output_type": "execute_result"
    }
   ],
   "source": [
    "FRR/match_no"
   ]
  },
  {
   "cell_type": "code",
   "execution_count": 0,
   "metadata": {
    "colab": {},
    "colab_type": "code",
    "id": "_ccNkB3hVlOj"
   },
   "outputs": [],
   "source": []
  }
 ],
 "metadata": {
  "colab": {
   "collapsed_sections": [],
   "name": "Fingerprint.ipynb",
   "provenance": [],
   "version": "0.3.2"
  },
  "kernelspec": {
   "display_name": "Python 3",
   "language": "python",
   "name": "python3"
  },
  "language_info": {
   "codemirror_mode": {
    "name": "ipython",
    "version": 3
   },
   "file_extension": ".py",
   "mimetype": "text/x-python",
   "name": "python",
   "nbconvert_exporter": "python",
   "pygments_lexer": "ipython3",
   "version": "3.7.3"
  }
 },
 "nbformat": 4,
 "nbformat_minor": 1
}
